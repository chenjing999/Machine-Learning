{
 "cells": [
  {
   "cell_type": "code",
   "execution_count": 44,
   "metadata": {},
   "outputs": [],
   "source": [
    "# gplearn tutorial    https://gplearn.readthedocs.io/en/latest/examples.html\n",
    "import pandas as pd\n",
    "from gplearn.genetic import SymbolicClassifier\n",
    "from sklearn.model_selection import train_test_split\n",
    "from sklearn.preprocessing import StandardScaler\n",
    "from sklearn.metrics import mean_absolute_error, mean_squared_error\n",
    "import graphviz\n",
    "import random"
   ]
  },
  {
   "cell_type": "code",
   "execution_count": 46,
   "metadata": {},
   "outputs": [
    {
     "data": {
      "text/html": [
       "<div>\n",
       "<style scoped>\n",
       "    .dataframe tbody tr th:only-of-type {\n",
       "        vertical-align: middle;\n",
       "    }\n",
       "\n",
       "    .dataframe tbody tr th {\n",
       "        vertical-align: top;\n",
       "    }\n",
       "\n",
       "    .dataframe thead th {\n",
       "        text-align: right;\n",
       "    }\n",
       "</style>\n",
       "<table border=\"1\" class=\"dataframe\">\n",
       "  <thead>\n",
       "    <tr style=\"text-align: right;\">\n",
       "      <th></th>\n",
       "      <th>V1</th>\n",
       "      <th>V2</th>\n",
       "      <th>V3</th>\n",
       "      <th>V4</th>\n",
       "      <th>V5</th>\n",
       "      <th>V6</th>\n",
       "      <th>V7</th>\n",
       "      <th>V8</th>\n",
       "      <th>V9</th>\n",
       "      <th>V10</th>\n",
       "      <th>...</th>\n",
       "      <th>V28</th>\n",
       "      <th>V29</th>\n",
       "      <th>V30</th>\n",
       "      <th>V31</th>\n",
       "      <th>V32</th>\n",
       "      <th>V33</th>\n",
       "      <th>V34</th>\n",
       "      <th>V35</th>\n",
       "      <th>V36</th>\n",
       "      <th>Target</th>\n",
       "    </tr>\n",
       "  </thead>\n",
       "  <tbody>\n",
       "    <tr>\n",
       "      <th>0</th>\n",
       "      <td>46</td>\n",
       "      <td>40</td>\n",
       "      <td>119</td>\n",
       "      <td>139</td>\n",
       "      <td>42</td>\n",
       "      <td>30</td>\n",
       "      <td>135</td>\n",
       "      <td>157</td>\n",
       "      <td>42</td>\n",
       "      <td>30</td>\n",
       "      <td>...</td>\n",
       "      <td>113</td>\n",
       "      <td>50</td>\n",
       "      <td>46</td>\n",
       "      <td>111</td>\n",
       "      <td>116</td>\n",
       "      <td>44</td>\n",
       "      <td>31</td>\n",
       "      <td>131</td>\n",
       "      <td>142</td>\n",
       "      <td>'Anomaly'</td>\n",
       "    </tr>\n",
       "    <tr>\n",
       "      <th>1</th>\n",
       "      <td>47</td>\n",
       "      <td>37</td>\n",
       "      <td>119</td>\n",
       "      <td>133</td>\n",
       "      <td>44</td>\n",
       "      <td>34</td>\n",
       "      <td>124</td>\n",
       "      <td>143</td>\n",
       "      <td>44</td>\n",
       "      <td>34</td>\n",
       "      <td>...</td>\n",
       "      <td>85</td>\n",
       "      <td>50</td>\n",
       "      <td>39</td>\n",
       "      <td>118</td>\n",
       "      <td>132</td>\n",
       "      <td>43</td>\n",
       "      <td>29</td>\n",
       "      <td>133</td>\n",
       "      <td>143</td>\n",
       "      <td>'Anomaly'</td>\n",
       "    </tr>\n",
       "    <tr>\n",
       "      <th>2</th>\n",
       "      <td>80</td>\n",
       "      <td>95</td>\n",
       "      <td>100</td>\n",
       "      <td>74</td>\n",
       "      <td>64</td>\n",
       "      <td>64</td>\n",
       "      <td>104</td>\n",
       "      <td>96</td>\n",
       "      <td>46</td>\n",
       "      <td>36</td>\n",
       "      <td>...</td>\n",
       "      <td>81</td>\n",
       "      <td>82</td>\n",
       "      <td>91</td>\n",
       "      <td>92</td>\n",
       "      <td>78</td>\n",
       "      <td>78</td>\n",
       "      <td>83</td>\n",
       "      <td>96</td>\n",
       "      <td>74</td>\n",
       "      <td>'Anomaly'</td>\n",
       "    </tr>\n",
       "    <tr>\n",
       "      <th>3</th>\n",
       "      <td>56</td>\n",
       "      <td>51</td>\n",
       "      <td>72</td>\n",
       "      <td>60</td>\n",
       "      <td>59</td>\n",
       "      <td>54</td>\n",
       "      <td>72</td>\n",
       "      <td>60</td>\n",
       "      <td>59</td>\n",
       "      <td>51</td>\n",
       "      <td>...</td>\n",
       "      <td>50</td>\n",
       "      <td>57</td>\n",
       "      <td>55</td>\n",
       "      <td>74</td>\n",
       "      <td>61</td>\n",
       "      <td>57</td>\n",
       "      <td>55</td>\n",
       "      <td>78</td>\n",
       "      <td>65</td>\n",
       "      <td>'Anomaly'</td>\n",
       "    </tr>\n",
       "    <tr>\n",
       "      <th>4</th>\n",
       "      <td>44</td>\n",
       "      <td>34</td>\n",
       "      <td>129</td>\n",
       "      <td>140</td>\n",
       "      <td>44</td>\n",
       "      <td>34</td>\n",
       "      <td>124</td>\n",
       "      <td>136</td>\n",
       "      <td>44</td>\n",
       "      <td>34</td>\n",
       "      <td>...</td>\n",
       "      <td>139</td>\n",
       "      <td>43</td>\n",
       "      <td>31</td>\n",
       "      <td>128</td>\n",
       "      <td>135</td>\n",
       "      <td>43</td>\n",
       "      <td>29</td>\n",
       "      <td>128</td>\n",
       "      <td>132</td>\n",
       "      <td>'Anomaly'</td>\n",
       "    </tr>\n",
       "  </tbody>\n",
       "</table>\n",
       "<p>5 rows × 37 columns</p>\n",
       "</div>"
      ],
      "text/plain": [
       "   V1  V2   V3   V4  V5  V6   V7   V8  V9  V10  ...  V28  V29  V30  V31  V32  \\\n",
       "0  46  40  119  139  42  30  135  157  42   30  ...  113   50   46  111  116   \n",
       "1  47  37  119  133  44  34  124  143  44   34  ...   85   50   39  118  132   \n",
       "2  80  95  100   74  64  64  104   96  46   36  ...   81   82   91   92   78   \n",
       "3  56  51   72   60  59  54   72   60  59   51  ...   50   57   55   74   61   \n",
       "4  44  34  129  140  44  34  124  136  44   34  ...  139   43   31  128  135   \n",
       "\n",
       "   V33  V34  V35  V36     Target  \n",
       "0   44   31  131  142  'Anomaly'  \n",
       "1   43   29  133  143  'Anomaly'  \n",
       "2   78   83   96   74  'Anomaly'  \n",
       "3   57   55   78   65  'Anomaly'  \n",
       "4   43   29  128  132  'Anomaly'  \n",
       "\n",
       "[5 rows x 37 columns]"
      ]
     },
     "execution_count": 46,
     "metadata": {},
     "output_type": "execute_result"
    }
   ],
   "source": [
    "df = pd.read_csv('D:/comp2020/420/ass2_data/ass2_data/part4/satellite.csv')\n",
    "df.head()"
   ]
  },
  {
   "cell_type": "code",
   "execution_count": 47,
   "metadata": {},
   "outputs": [
    {
     "name": "stdout",
     "output_type": "stream",
     "text": [
      "['V1', 'V2', 'V3', 'V4', 'V5', 'V6', 'V7', 'V8', 'V9', 'V10', 'V11', 'V12', 'V13', 'V14', 'V15', 'V16', 'V17', 'V18', 'V19', 'V20', 'V21', 'V22', 'V23', 'V24', 'V25', 'V26', 'V27', 'V28', 'V29', 'V30', 'V31', 'V32', 'V33', 'V34', 'V35', 'V36', 'Target']\n"
     ]
    }
   ],
   "source": [
    "column_headers = list(df.columns.values)\n",
    "print(column_headers)"
   ]
  },
  {
   "cell_type": "code",
   "execution_count": 48,
   "metadata": {},
   "outputs": [
    {
     "data": {
      "text/plain": [
       "37"
      ]
     },
     "execution_count": 48,
     "metadata": {},
     "output_type": "execute_result"
    }
   ],
   "source": [
    "len(column_headers)"
   ]
  },
  {
   "cell_type": "code",
   "execution_count": 49,
   "metadata": {},
   "outputs": [
    {
     "data": {
      "text/plain": [
       "\"'Anomaly'\""
      ]
     },
     "execution_count": 49,
     "metadata": {},
     "output_type": "execute_result"
    }
   ],
   "source": [
    "target_name = 'Target'\n",
    "y = df[target_name]\n",
    "\n",
    "y[0]"
   ]
  },
  {
   "cell_type": "code",
   "execution_count": 50,
   "metadata": {},
   "outputs": [
    {
     "data": {
      "text/plain": [
       "(195, 36)"
      ]
     },
     "execution_count": 50,
     "metadata": {},
     "output_type": "execute_result"
    }
   ],
   "source": [
    "feature_names = ['V1', 'V2', 'V3', 'V4', 'V5', 'V6', 'V7', 'V8', 'V9', 'V10', 'V11', 'V12', 'V13', 'V14', 'V15', 'V16', 'V17', 'V18',\n",
    "                  'V19', 'V20', 'V21', 'V22', 'V23', 'V24', 'V25', 'V26', 'V27', 'V28', 'V29', 'V30', 'V31', 'V32', 'V33', 'V34', \n",
    "                 'V35', 'V36']\n",
    "\n",
    "X = df[feature_names]\n",
    "X.shape"
   ]
  },
  {
   "cell_type": "code",
   "execution_count": 118,
   "metadata": {},
   "outputs": [],
   "source": [
    "X_train, X_test, y_train, y_test = train_test_split(X, y, shuffle=True, random_state=789)"
   ]
  },
  {
   "cell_type": "code",
   "execution_count": 119,
   "metadata": {},
   "outputs": [
    {
     "data": {
      "text/plain": [
       "(146, 36)"
      ]
     },
     "execution_count": 119,
     "metadata": {},
     "output_type": "execute_result"
    }
   ],
   "source": [
    "X_train.shape"
   ]
  },
  {
   "cell_type": "code",
   "execution_count": 120,
   "metadata": {},
   "outputs": [
    {
     "data": {
      "text/plain": [
       "(49, 36)"
      ]
     },
     "execution_count": 120,
     "metadata": {},
     "output_type": "execute_result"
    }
   ],
   "source": [
    "X_test.shape"
   ]
  },
  {
   "cell_type": "code",
   "execution_count": 121,
   "metadata": {},
   "outputs": [],
   "source": [
    "# # # models = {'sr': SymbolicRegressor(generations=15, verbose=4, max_samples=0.8，random_state=180)}\n",
    "# models = {'sc':SymbolicClassifier(generations=20, verbose=4,parsimony_coefficient=.01,\n",
    "#             feature_names=feature_names,\n",
    "#             random_state=42)}\n"
   ]
  },
  {
   "cell_type": "code",
   "execution_count": 122,
   "metadata": {},
   "outputs": [],
   "source": [
    "# for model_name, model_instance in models.items():\n",
    "#     print('Training model {}'.format(model_name))\n",
    "#     model_instance.fit(X_train, y_train)"
   ]
  },
  {
   "cell_type": "code",
   "execution_count": 123,
   "metadata": {},
   "outputs": [],
   "source": [
    "# model_instance.fit(X_train, y_train)"
   ]
  },
  {
   "cell_type": "code",
   "execution_count": 124,
   "metadata": {},
   "outputs": [],
   "source": [
    "import gplearn as gp\n",
    "import numpy as np\n",
    "\n",
    "function_set = ['add', 'sub', 'mul', 'div','log','sin','cos']"
   ]
  },
  {
   "cell_type": "code",
   "execution_count": 128,
   "metadata": {},
   "outputs": [
    {
     "data": {
      "text/plain": [
       "SymbolicClassifier(const_range=(-1.0, 1.0),\n",
       "                   feature_names=['V1', 'V2', 'V3', 'V4', 'V5', 'V6', 'V7',\n",
       "                                  'V8', 'V9', 'V10', 'V11', 'V12', 'V13', 'V14',\n",
       "                                  'V15', 'V16', 'V17', 'V18', 'V19', 'V20',\n",
       "                                  'V21', 'V22', 'V23', 'V24', 'V25', 'V26',\n",
       "                                  'V27', 'V28', 'V29', 'V30', ...],\n",
       "                   function_set=['add', 'sub', 'mul', 'div', 'log', 'sin',\n",
       "                                 'cos'],\n",
       "                   generations=20, init_depth=(2, 6),\n",
       "                   init_method='half and half', low_memory=False,\n",
       "                   max_samples=1.0, metric='log loss', n_jobs=1,\n",
       "                   p_crossover=0.9, p_hoist_mutation=0.01,\n",
       "                   p_point_mutation=0.01, p_point_replace=0.05,\n",
       "                   p_subtree_mutation=0.01, parsimony_coefficient=0.01,\n",
       "                   population_size=1000, random_state=4567,\n",
       "                   stopping_criteria=0.0, tournament_size=20,\n",
       "                   transformer='sigmoid', verbose=0, warm_start=False)"
      ]
     },
     "execution_count": 128,
     "metadata": {},
     "output_type": "execute_result"
    }
   ],
   "source": [
    "est = SymbolicClassifier(parsimony_coefficient=.01,\n",
    "                         feature_names=feature_names,\n",
    "                         function_set=function_set,\n",
    "                         random_state=4567)\n",
    "est.fit(X_train, y_train)"
   ]
  },
  {
   "cell_type": "code",
   "execution_count": 130,
   "metadata": {},
   "outputs": [
    {
     "data": {
      "text/plain": [
       "0.8728174603174603"
      ]
     },
     "execution_count": 130,
     "metadata": {},
     "output_type": "execute_result"
    }
   ],
   "source": [
    "from sklearn.metrics import roc_auc_score\n",
    "y_true = y_train\n",
    "y_score = est.predict_proba(X_train)[:,1]\n",
    "roc_auc_score(y_true, y_score)"
   ]
  },
  {
   "cell_type": "code",
   "execution_count": 131,
   "metadata": {},
   "outputs": [
    {
     "data": {
      "text/plain": [
       "0.893859649122807"
      ]
     },
     "execution_count": 131,
     "metadata": {},
     "output_type": "execute_result"
    }
   ],
   "source": [
    "from sklearn.metrics import roc_auc_score\n",
    "y_true = y_test\n",
    "y_score = est.predict_proba(X_test)[:,1]\n",
    "roc_auc_score(y_true, y_score)"
   ]
  },
  {
   "cell_type": "code",
   "execution_count": 116,
   "metadata": {},
   "outputs": [
    {
     "name": "stdout",
     "output_type": "stream",
     "text": [
      "cos(div(V24, V26))\n"
     ]
    }
   ],
   "source": [
    "print(est._program)"
   ]
  },
  {
   "cell_type": "code",
   "execution_count": 1,
   "metadata": {},
   "outputs": [],
   "source": [
    "# y_true"
   ]
  },
  {
   "cell_type": "code",
   "execution_count": 2,
   "metadata": {},
   "outputs": [],
   "source": [
    "# y_score"
   ]
  },
  {
   "cell_type": "code",
   "execution_count": 117,
   "metadata": {},
   "outputs": [],
   "source": [
    "# Print fittest solution\n",
    "# print(models['sc']._program)"
   ]
  },
  {
   "cell_type": "code",
   "execution_count": 107,
   "metadata": {},
   "outputs": [
    {
     "data": {
      "image/svg+xml": [
       "<?xml version=\"1.0\" encoding=\"UTF-8\" standalone=\"no\"?>\r\n",
       "<!DOCTYPE svg PUBLIC \"-//W3C//DTD SVG 1.1//EN\"\r\n",
       " \"http://www.w3.org/Graphics/SVG/1.1/DTD/svg11.dtd\">\r\n",
       "<!-- Generated by graphviz version 2.38.0 (20140413.2041)\r\n",
       " -->\r\n",
       "<!-- Title: program Pages: 1 -->\r\n",
       "<svg width=\"134pt\" height=\"260pt\"\r\n",
       " viewBox=\"0.00 0.00 134.00 260.00\" xmlns=\"http://www.w3.org/2000/svg\" xmlns:xlink=\"http://www.w3.org/1999/xlink\">\r\n",
       "<g id=\"graph0\" class=\"graph\" transform=\"scale(1 1) rotate(0) translate(4 256)\">\r\n",
       "<title>program</title>\r\n",
       "<polygon fill=\"white\" stroke=\"none\" points=\"-4,4 -4,-256 130,-256 130,4 -4,4\"/>\r\n",
       "<!-- 0 -->\r\n",
       "<g id=\"node1\" class=\"node\"><title>0</title>\r\n",
       "<ellipse fill=\"#136ed4\" stroke=\"black\" cx=\"63\" cy=\"-234\" rx=\"27\" ry=\"18\"/>\r\n",
       "<text text-anchor=\"middle\" x=\"63\" y=\"-230.3\" font-family=\"Times New Roman,serif\" font-size=\"14.00\">cos</text>\r\n",
       "</g>\r\n",
       "<!-- 1 -->\r\n",
       "<g id=\"node2\" class=\"node\"><title>1</title>\r\n",
       "<ellipse fill=\"#136ed4\" stroke=\"black\" cx=\"63\" cy=\"-162\" rx=\"27\" ry=\"18\"/>\r\n",
       "<text text-anchor=\"middle\" x=\"63\" y=\"-158.3\" font-family=\"Times New Roman,serif\" font-size=\"14.00\">log</text>\r\n",
       "</g>\r\n",
       "<!-- 0&#45;&gt;1 -->\r\n",
       "<g id=\"edge4\" class=\"edge\"><title>0&#45;&gt;1</title>\r\n",
       "<path fill=\"none\" stroke=\"black\" d=\"M63,-215.697C63,-207.983 63,-198.712 63,-190.112\"/>\r\n",
       "<polygon fill=\"black\" stroke=\"black\" points=\"66.5001,-190.104 63,-180.104 59.5001,-190.104 66.5001,-190.104\"/>\r\n",
       "</g>\r\n",
       "<!-- 2 -->\r\n",
       "<g id=\"node3\" class=\"node\"><title>2</title>\r\n",
       "<ellipse fill=\"#136ed4\" stroke=\"black\" cx=\"63\" cy=\"-90\" rx=\"27\" ry=\"18\"/>\r\n",
       "<text text-anchor=\"middle\" x=\"63\" y=\"-86.3\" font-family=\"Times New Roman,serif\" font-size=\"14.00\">add</text>\r\n",
       "</g>\r\n",
       "<!-- 1&#45;&gt;2 -->\r\n",
       "<g id=\"edge3\" class=\"edge\"><title>1&#45;&gt;2</title>\r\n",
       "<path fill=\"none\" stroke=\"black\" d=\"M63,-143.697C63,-135.983 63,-126.712 63,-118.112\"/>\r\n",
       "<polygon fill=\"black\" stroke=\"black\" points=\"66.5001,-118.104 63,-108.104 59.5001,-118.104 66.5001,-118.104\"/>\r\n",
       "</g>\r\n",
       "<!-- 3 -->\r\n",
       "<g id=\"node4\" class=\"node\"><title>3</title>\r\n",
       "<ellipse fill=\"#60a6f6\" stroke=\"black\" cx=\"27\" cy=\"-18\" rx=\"27\" ry=\"18\"/>\r\n",
       "<text text-anchor=\"middle\" x=\"27\" y=\"-14.3\" font-family=\"Times New Roman,serif\" font-size=\"14.00\">V18</text>\r\n",
       "</g>\r\n",
       "<!-- 2&#45;&gt;3 -->\r\n",
       "<g id=\"edge2\" class=\"edge\"><title>2&#45;&gt;3</title>\r\n",
       "<path fill=\"none\" stroke=\"black\" d=\"M54.6504,-72.7646C50.2885,-64.2831 44.8531,-53.7144 39.9587,-44.1974\"/>\r\n",
       "<polygon fill=\"black\" stroke=\"black\" points=\"42.9904,-42.4395 35.3043,-35.1473 36.7654,-45.6409 42.9904,-42.4395\"/>\r\n",
       "</g>\r\n",
       "<!-- 4 -->\r\n",
       "<g id=\"node5\" class=\"node\"><title>4</title>\r\n",
       "<ellipse fill=\"#60a6f6\" stroke=\"black\" cx=\"99\" cy=\"-18\" rx=\"27\" ry=\"18\"/>\r\n",
       "<text text-anchor=\"middle\" x=\"99\" y=\"-14.3\" font-family=\"Times New Roman,serif\" font-size=\"14.00\">V18</text>\r\n",
       "</g>\r\n",
       "<!-- 2&#45;&gt;4 -->\r\n",
       "<g id=\"edge1\" class=\"edge\"><title>2&#45;&gt;4</title>\r\n",
       "<path fill=\"none\" stroke=\"black\" d=\"M71.3496,-72.7646C75.7115,-64.2831 81.1469,-53.7144 86.0413,-44.1974\"/>\r\n",
       "<polygon fill=\"black\" stroke=\"black\" points=\"89.2346,-45.6409 90.6957,-35.1473 83.0096,-42.4395 89.2346,-45.6409\"/>\r\n",
       "</g>\r\n",
       "</g>\r\n",
       "</svg>\r\n"
      ],
      "text/plain": [
       "<graphviz.files.Source at 0x29b6e1bf348>"
      ]
     },
     "execution_count": 107,
     "metadata": {},
     "output_type": "execute_result"
    }
   ],
   "source": [
    "dot_data = est._program.export_graphviz()\n",
    "graph = graphviz.Source(dot_data)\n",
    "graph"
   ]
  },
  {
   "cell_type": "code",
   "execution_count": 30,
   "metadata": {},
   "outputs": [
    {
     "data": {
      "text/plain": [
       "'result.gv.pdf'"
      ]
     },
     "execution_count": 30,
     "metadata": {},
     "output_type": "execute_result"
    }
   ],
   "source": [
    "# # Export to a graph instance\n",
    "# graph = models['sc']._program.export_graphviz()  \n",
    "# graph_str = str(graph)\n",
    "# program_str = str(models['sc']._program)\n",
    "\n",
    "# # Replace X{} with actual features names\n",
    "# mapping_dict = {'X{}'.format(i): X.columns[i] for i in reversed(range(X.shape[1]))}\n",
    "\n",
    "# for old_value, new_value in mapping_dict.items():\n",
    "#     graph_str = graph_str.replace(old_value, new_value)\n",
    "#     program_str = program_str.replace(old_value, new_value)\n",
    "\n",
    "    \n",
    "# # Save localy\n",
    "# src = graphviz.Source(graph_str)\n",
    "# src.render('result.gv', view=True)"
   ]
  },
  {
   "cell_type": "code",
   "execution_count": null,
   "metadata": {},
   "outputs": [],
   "source": []
  }
 ],
 "metadata": {
  "kernelspec": {
   "display_name": "Python 3",
   "language": "python",
   "name": "python3"
  },
  "language_info": {
   "codemirror_mode": {
    "name": "ipython",
    "version": 3
   },
   "file_extension": ".py",
   "mimetype": "text/x-python",
   "name": "python",
   "nbconvert_exporter": "python",
   "pygments_lexer": "ipython3",
   "version": "3.7.6"
  }
 },
 "nbformat": 4,
 "nbformat_minor": 4
}
